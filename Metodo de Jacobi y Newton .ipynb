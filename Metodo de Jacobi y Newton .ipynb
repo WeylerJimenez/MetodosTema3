{
 "cells": [
  {
   "cell_type": "markdown",
   "metadata": {},
   "source": [
    "## Método de jacobi\n"
   ]
  },
  {
   "cell_type": "code",
   "execution_count": 2,
   "metadata": {},
   "outputs": [],
   "source": [
    "import numpy as np\n",
    "import math \n",
    "#from math import *"
   ]
  },
  {
   "cell_type": "code",
   "execution_count": 11,
   "metadata": {},
   "outputs": [],
   "source": [
    "#Se define la matriz T\n",
    "\n",
    "T=np.array([[0,1/10,-1/5,0],[1/11,0,1/11,-3/11],[-1/5,1/10,0,1/10],[0,-3/8,1/8,0]])\n",
    "C=np.array([3/5,25/11,-11/10,15/8])\n",
    "X=np.array([0,0,0,0])"
   ]
  },
  {
   "cell_type": "code",
   "execution_count": 12,
   "metadata": {
    "scrolled": true
   },
   "outputs": [
    {
     "name": "stdout",
     "output_type": "stream",
     "text": [
      "(4, 4)\n",
      "(4,)\n",
      "[ 0.6         2.27272727 -1.1         1.875     ]\n",
      "Error:  1.0\n",
      "[ 1.04727273  1.71590909 -0.80522727  0.88522727]\n",
      "Error:  0.57682119205298\n",
      "[ 0.93263636  2.05330579 -1.04934091  1.13088068]\n",
      "Error:  0.16431877641376524\n",
      "[ 1.01519876  1.95369576 -0.96810863  0.97384272]\n",
      "Error:  0.08037994847125665\n",
      "[ 0.9889913   2.01141473 -1.0102859   1.02135051]\n",
      "Error:  0.02869570385848171\n",
      "[ 1.00319865  1.99224126 -0.99452174  0.99443374]\n",
      "Error:  0.013510798495147403\n",
      "[ 0.99812847  2.00230688 -1.00197223  1.00359431]\n",
      "Error:  0.005027012074241982\n"
     ]
    }
   ],
   "source": [
    "print(T.shape)\n",
    "print(C.shape)\n",
    "error=1\n",
    "while error>0.01: \n",
    "    resultado=np.dot(T,X)+C\n",
    "    print(resultado)\n",
    "    numerador = np.amax(abs((resultado - X)))\n",
    "    denominador = np.amax(abs(resultado))\n",
    "    error = numerador/denominador\n",
    "    X=resultado\n",
    "    print(\"Error: \",error)"
   ]
  },
  {
   "cell_type": "code",
   "execution_count": 13,
   "metadata": {
    "scrolled": true
   },
   "outputs": [
    {
     "name": "stdout",
     "output_type": "stream",
     "text": [
      "X1=:   0.998128 \n",
      "X2=:   2.002307 \n",
      "X3=:  -1.001972 \n",
      "X4=:   1.003594 \n"
     ]
    }
   ],
   "source": [
    "print(\"X1=: \",\"{:^10.6f}\".format(resultado[0]))\n",
    "print(\"X2=: \",\"{:^10.6f}\".format(resultado[1]))\n",
    "print(\"X3=: \",\"{:^10.6f}\".format(resultado[2]))\n",
    "print(\"X4=: \",\"{:^10.6f}\".format(resultado[3]))"
   ]
  },
  {
   "cell_type": "markdown",
   "metadata": {},
   "source": [
    "# Método de Newton"
   ]
  },
  {
   "cell_type": "code",
   "execution_count": 8,
   "metadata": {},
   "outputs": [],
   "source": [
    "def jacobiano(x):\n",
    "    j= np.array([[3,x[2]*math.sin(x[1]*x[2]),x[1]*math.sin(x[1]*x[2])],[2*x[0], -162*(x[1]+0.1) ,math.cos(x[2])],[-x[1]*math.exp(-x[0]*x[1]),-x[0]*math.exp(-x[0]*x[1]),20]])\n",
    "    JInversa= np.linalg.inv(j)\n",
    "    return JInversa\n",
    "def Fx(x):\n",
    "    xk=np.array([3*x[0]-math.cos(x[1]*x[2])-1/2, x[0]**2-81*(x[1]+0.1)**2+math.sin(x[2])+1.06, math.exp(-x[0]*x[1])+20*x[2]+(10*math.pi-3)/3])\n",
    "    #x1=3*x[0]-cos(x[1]*cos[2])-1/2\n",
    "    #x2=x[0]**2-81*(x[1]+0.1)**2+sin(x[2])+1.06\n",
    "    #x3=exp(-x[0]*x[1])+20*x[2]+(10-math.pi-3/3)\n",
    "    \n",
    "\n",
    "    #xk=np.array([x1,x2,x3])\n",
    "    return xk\n",
    "    "
   ]
  },
  {
   "cell_type": "code",
   "execution_count": 9,
   "metadata": {},
   "outputs": [],
   "source": [
    "x=np.array([0.1,0.1,-0.1])\n",
    "error=1\n",
    "c=0"
   ]
  },
  {
   "cell_type": "code",
   "execution_count": 10,
   "metadata": {},
   "outputs": [
    {
     "name": "stdout",
     "output_type": "stream",
     "text": [
      "iteración: 1 Resultado [ 0.49986967  0.01946685 -0.52152047]\n",
      "iteración: 2 Resultado [ 0.50001424  0.00158859 -0.52355696]\n",
      "X1=:   0.500014 \n",
      "X2=:   0.001589 \n",
      "X3=:  -0.523557 \n"
     ]
    }
   ],
   "source": [
    "while error>0.1:\n",
    "    c+=1\n",
    "    r = jacobiano(x)\n",
    "    feval= Fx(x)\n",
    "    resultado=x-np.dot(r,feval)\n",
    "    \n",
    "    numerador = np.amax( abs((resultado - x)))\n",
    "    denominador = np.amax( abs(resultado))\n",
    "    error = numerador/denominador\n",
    "    x=resultado\n",
    "\n",
    "\n",
    "\n",
    "    print(\"iteración:\",c,\"Resultado\",resultado)\n",
    "    #print(r)\n",
    "print(\"X1=: \",\"{:^10.6f}\".format(resultado[0]))\n",
    "print(\"X2=: \",\"{:^10.6f}\".format(resultado[1]))\n",
    "print(\"X3=: \",\"{:^10.6f}\".format(resultado[2]))"
   ]
  },
  {
   "cell_type": "code",
   "execution_count": null,
   "metadata": {},
   "outputs": [],
   "source": []
  }
 ],
 "metadata": {
  "kernelspec": {
   "display_name": "Python 3",
   "language": "python",
   "name": "python3"
  },
  "language_info": {
   "codemirror_mode": {
    "name": "ipython",
    "version": 3
   },
   "file_extension": ".py",
   "mimetype": "text/x-python",
   "name": "python",
   "nbconvert_exporter": "python",
   "pygments_lexer": "ipython3",
   "version": "3.8.5"
  }
 },
 "nbformat": 4,
 "nbformat_minor": 4
}
